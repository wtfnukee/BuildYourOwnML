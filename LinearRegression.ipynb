{
 "cells": [
  {
   "cell_type": "markdown",
   "source": [
    "# Linear Regression"
   ],
   "metadata": {
    "collapsed": false
   }
  },
  {
   "cell_type": "markdown",
   "source": [
    "Linear methods assume that there is a linear relationship between the features and the target/label, that is\n",
    "$$y = w_1 x_1 + w_2 x_2 + w_x x_k + b$$\n",
    "where $y$ - target (what we want to predict), $x_i$ - feature of $x$, $w_i$ - weight of $i$-th feature, $b$ - bias."
   ],
   "metadata": {
    "collapsed": false
   }
  },
  {
   "cell_type": "code",
   "execution_count": 1,
   "outputs": [],
   "source": [
    "def regressionLine(x, y):\n",
    "    \"\"\" Return the a (intercept)\n",
    "        and b (slope) of Regression Line\n",
    "        (Y on X).\n",
    "    \"\"\"\n",
    "    n = float(len(x))\n",
    "    sum_y = sum(y)\n",
    "    sum_x = sum(x)\n",
    "    sum_x_squared = sum([x_i * x_i for x_i in x])\n",
    "    sum_x_y = sum([x_i * y_i for (x_i, y_i) in zip(x, y)])\n",
    "\n",
    "    divisor = (n * sum_x_squared - (sum_x * sum_x))\n",
    "    intercept = (sum_x_squared * sum_y - sum_x * sum_x_y) / divisor\n",
    "    slope = (n * sum_x_y - sum_x * sum_y) / divisor\n",
    "\n",
    "    return intercept, slope"
   ],
   "metadata": {
    "collapsed": false
   }
  }
 ],
 "metadata": {
  "kernelspec": {
   "display_name": "Python 3",
   "language": "python",
   "name": "python3"
  },
  "language_info": {
   "codemirror_mode": {
    "name": "ipython",
    "version": 2
   },
   "file_extension": ".py",
   "mimetype": "text/x-python",
   "name": "python",
   "nbconvert_exporter": "python",
   "pygments_lexer": "ipython2",
   "version": "2.7.6"
  }
 },
 "nbformat": 4,
 "nbformat_minor": 0
}
