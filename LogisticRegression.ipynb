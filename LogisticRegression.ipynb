{
 "cells": [
  {
   "cell_type": "markdown",
   "source": [
    "# Logistic Regression"
   ],
   "metadata": {
    "collapsed": false
   }
  },
  {
   "cell_type": "code",
   "execution_count": null,
   "outputs": [],
   "source": [
    "import numpy as np"
   ],
   "metadata": {
    "collapsed": false
   }
  },
  {
   "cell_type": "code",
   "execution_count": null,
   "metadata": {
    "collapsed": true
   },
   "outputs": [],
   "source": [
    "def logit(x, w):\n",
    "    return np.dot(x, w)\n",
    "\n",
    "\n",
    "def sigmoid(h):\n",
    "    return 1. / (1 + np.exp(-h))\n",
    "\n",
    "\n",
    "class MyLogisticRegression(object):\n",
    "    def __init__(self):\n",
    "        self.w = None\n",
    "\n",
    "    def fit(self, X, y, max_iter=100, lr=0.1):\n",
    "        n, k = X.shape\n",
    "\n",
    "        if self.w is None:\n",
    "            self.w = np.random.randn(k + 1)\n",
    "\n",
    "        X_train = np.concatenate((np.ones((n, 1)), X), axis=1)\n",
    "\n",
    "        losses = []\n",
    "\n",
    "        for iter_num in range(max_iter):\n",
    "            z = sigmoid(logit(X_train, self.w))\n",
    "            grad = np.dot(X_train.T, (z - y)) / len(y)\n",
    "\n",
    "            self.w -= grad * lr\n",
    "\n",
    "            losses.append(self.__loss(y, z))\n",
    "\n",
    "        return losses\n",
    "\n",
    "    def predict_proba(self, X):\n",
    "        # Принимает на вход X и возвращает ответы модели\n",
    "        n, k = X.shape\n",
    "        X_ = np.concatenate((np.ones((n, 1)), X), axis=1)\n",
    "        return sigmoid(logit(X_, self.w))\n",
    "\n",
    "    def predict(self, X, threshold=0.5):\n",
    "        return self.predict_proba(X) >= threshold\n",
    "\n",
    "    def get_weights(self):\n",
    "        return self.w\n",
    "\n",
    "    def __loss(self, y, p):\n",
    "        p = np.clip(p, 1e-10, 1 - 1e-10)\n",
    "        return np.mean(y * np.log(p) + (1 - y) * np.log(1 - p))"
   ]
  }
 ],
 "metadata": {
  "kernelspec": {
   "display_name": "Python 3",
   "language": "python",
   "name": "python3"
  },
  "language_info": {
   "codemirror_mode": {
    "name": "ipython",
    "version": 2
   },
   "file_extension": ".py",
   "mimetype": "text/x-python",
   "name": "python",
   "nbconvert_exporter": "python",
   "pygments_lexer": "ipython2",
   "version": "2.7.6"
  }
 },
 "nbformat": 4,
 "nbformat_minor": 0
}
